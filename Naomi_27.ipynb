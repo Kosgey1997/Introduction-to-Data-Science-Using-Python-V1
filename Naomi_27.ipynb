{
  "nbformat": 4,
  "nbformat_minor": 0,
  "metadata": {
    "colab": {
      "provenance": [],
      "authorship_tag": "ABX9TyPL/hKkcXdwbzBvNMa5Sjjk",
      "include_colab_link": true
    },
    "kernelspec": {
      "name": "python3",
      "display_name": "Python 3"
    },
    "language_info": {
      "name": "python"
    }
  },
  "cells": [
    {
      "cell_type": "markdown",
      "metadata": {
        "id": "view-in-github",
        "colab_type": "text"
      },
      "source": [
        "<a href=\"https://colab.research.google.com/github/Kosgey1997/Introduction-to-Data-Science-Using-Python-V1/blob/main/Naomi_27.ipynb\" target=\"_parent\"><img src=\"https://colab.research.google.com/assets/colab-badge.svg\" alt=\"Open In Colab\"/></a>"
      ]
    },
    {
      "cell_type": "code",
      "source": [
        "(' my name is Naomi')"
      ],
      "metadata": {
        "colab": {
          "base_uri": "https://localhost:8080/",
          "height": 35
        },
        "id": "lnPDExdZ9Nid",
        "outputId": "6d7abe04-e586-4983-87c3-2c060da46115"
      },
      "execution_count": null,
      "outputs": [
        {
          "output_type": "execute_result",
          "data": {
            "text/plain": [
              "' my name is Naomi'"
            ],
            "application/vnd.google.colaboratory.intrinsic+json": {
              "type": "string"
            }
          },
          "metadata": {},
          "execution_count": 7
        }
      ]
    },
    {
      "cell_type": "code",
      "source": [
        "# Challenge 1:\n",
        "# Print out the sum of 44 and 22 below\n",
        "# NB: We need to see 44 + 22 in our code\n",
        "print (44+22 )"
      ],
      "metadata": {
        "colab": {
          "base_uri": "https://localhost:8080/"
        },
        "id": "LYpF-2px5KRg",
        "outputId": "b286b838-0bd0-4923-9c05-401a236ae423"
      },
      "execution_count": null,
      "outputs": [
        {
          "output_type": "stream",
          "name": "stdout",
          "text": [
            "66\n"
          ]
        }
      ]
    },
    {
      "cell_type": "code",
      "source": [
        "# Challenge  2:\n",
        "#\n",
        "#\n",
        "print (' I have just began my data science journey')\n"
      ],
      "metadata": {
        "colab": {
          "base_uri": "https://localhost:8080/"
        },
        "id": "JqKSp8n-7aoQ",
        "outputId": "20d824fc-3504-4bd7-ce3f-830d03376a69"
      },
      "execution_count": null,
      "outputs": [
        {
          "output_type": "stream",
          "name": "stdout",
          "text": [
            " I have just began my data science journey\n"
          ]
        }
      ]
    },
    {
      "cell_type": "code",
      "source": [
        "# Challenge 3\n",
        "# Add comments to the program below. Add comments in two lines\n",
        "#\n",
        "a= 'Hello Naomi'\n",
        "print (a)"
      ],
      "metadata": {
        "colab": {
          "base_uri": "https://localhost:8080/"
        },
        "id": "FSJxKvW27zQV",
        "outputId": "f92fc5dd-a620-4e7a-b2f6-2691b3818737"
      },
      "execution_count": null,
      "outputs": [
        {
          "output_type": "stream",
          "name": "stdout",
          "text": [
            "Hello Naomi\n"
          ]
        }
      ]
    },
    {
      "cell_type": "code",
      "source": [
        "# Challenge 4\n",
        "# Run the code below and try to figure out what happens\n",
        "# From your understanding provide a documentation to the program\n",
        "# By documentation we mean add comments to the program,explain each line of\n",
        "# of code\n",
        "\n",
        "\n",
        "# a list of the months of the year\n",
        "months = ['January', 'February', 'March', 'April', 'May', 'June',\n",
        "          'July', 'August', 'September', 'October', 'November', 'December']\n",
        "\n",
        "  # take the calendar/year months and perform a kind of operation, or task\n",
        "def showCalendar(months):\n",
        "\n",
        "  for month in months:\n",
        "    print(month) # printing the months of the year\n",
        "\n",
        "# output of the months from the preceding lines\n",
        "showCalendar(months)"
      ],
      "metadata": {
        "colab": {
          "base_uri": "https://localhost:8080/"
        },
        "id": "34BJvz_K8SdU",
        "outputId": "eb4531ba-539f-4d03-a37b-3f87c4569b9c"
      },
      "execution_count": null,
      "outputs": [
        {
          "output_type": "stream",
          "name": "stdout",
          "text": [
            "January\n",
            "February\n",
            "March\n",
            "April\n",
            "May\n",
            "June\n",
            "July\n",
            "August\n",
            "September\n",
            "October\n",
            "November\n",
            "December\n"
          ]
        }
      ]
    },
    {
      "cell_type": "markdown",
      "source": [
        "Variables\n",
        "\n",
        "Variables is a container that we can use to store a value. This  value can be a number, a character, a string which is a just a set of characters."
      ],
      "metadata": {
        "id": "awVgDx_g_EOV"
      }
    },
    {
      "cell_type": "code",
      "source": [
        "# Example 3 value is a\n",
        "# we want to store the value 10 in a variable p.\n",
        "\n",
        "p = 10"
      ],
      "metadata": {
        "id": "WYLgkCk8_jry"
      },
      "execution_count": null,
      "outputs": []
    },
    {
      "cell_type": "code",
      "source": [
        "# Examples 4\n",
        "# the = sign is referred to as an assignment operator\n",
        "# the variable is left ,while the value is right\n",
        "# we generate output for a variable by calling it.\n",
        "\n",
        "name = 'Naomi'\n",
        "\n",
        "# we have assigned the value' Naomi' to the variable name, now we print\n",
        "print (name )"
      ],
      "metadata": {
        "colab": {
          "base_uri": "https://localhost:8080/"
        },
        "id": "eMIJiLGmAGFC",
        "outputId": "c692fa4e-437a-4ea4-d86f-14532699fdb6"
      },
      "execution_count": null,
      "outputs": [
        {
          "output_type": "stream",
          "name": "stdout",
          "text": [
            "Naomi\n"
          ]
        }
      ]
    },
    {
      "cell_type": "code",
      "source": [
        "# challenge 5\n",
        "# create a variable called savings with the value 1000\n",
        "\n",
        "savings = 1000\n",
        "# then print the savings variable below this line\n",
        "print (savings)"
      ],
      "metadata": {
        "colab": {
          "base_uri": "https://localhost:8080/"
        },
        "id": "-tLin6RQBF6h",
        "outputId": "e8cc751f-8cc8-4c57-c583-3cb1d3de6b83"
      },
      "execution_count": null,
      "outputs": [
        {
          "output_type": "stream",
          "name": "stdout",
          "text": [
            "1000\n"
          ]
        }
      ]
    },
    {
      "cell_type": "code",
      "source": [
        "# Challenge 6\n",
        "# create a variable book and assign it the value  I will marry when I want\n",
        "\n",
        "\n",
        "# print the book below this line\n",
        "book = 'I will marry when I want'\n",
        "print (book)"
      ],
      "metadata": {
        "colab": {
          "base_uri": "https://localhost:8080/"
        },
        "id": "M0eGwXvpBwq4",
        "outputId": "b6954d39-b389-490b-850a-959f84071f52"
      },
      "execution_count": null,
      "outputs": [
        {
          "output_type": "stream",
          "name": "stdout",
          "text": [
            "I will marry when I want\n"
          ]
        }
      ]
    },
    {
      "cell_type": "code",
      "source": [
        "# challenge 7\n",
        "# have a look at below code and fix it\n",
        "\n",
        "lesson= 'Data Science'\n",
        "print (lesson)"
      ],
      "metadata": {
        "colab": {
          "base_uri": "https://localhost:8080/"
        },
        "id": "njQcJI8yClm8",
        "outputId": "3778180b-570f-4ba1-a1a7-c27799177572"
      },
      "execution_count": null,
      "outputs": [
        {
          "output_type": "stream",
          "name": "stdout",
          "text": [
            "Data Science\n"
          ]
        }
      ]
    },
    {
      "cell_type": "code",
      "source": [
        "# challenge 8\n",
        "# fix the colling code\n",
        "\n",
        "second number == 400;"
      ],
      "metadata": {
        "id": "bsUkbvn_DWuf"
      },
      "execution_count": null,
      "outputs": []
    },
    {
      "cell_type": "markdown",
      "source": [
        "Operators"
      ],
      "metadata": {
        "id": "Ek34pt6ZDkFj"
      }
    },
    {
      "cell_type": "code",
      "source": [
        "# Example 5\n",
        "#\n",
        "\n",
        "a = 6\n",
        "\n",
        "b = 87\n",
        "\n",
        "c = 76\n",
        "\n",
        "print (a + b + c)\n",
        "print (a * b * c)\n",
        "print (a / b * c)\n",
        "print (a - b)"
      ],
      "metadata": {
        "id": "Ue9lGMpMDoib",
        "colab": {
          "base_uri": "https://localhost:8080/"
        },
        "outputId": "941c50cb-44ad-4b04-9481-e84c6477e344"
      },
      "execution_count": null,
      "outputs": [
        {
          "output_type": "stream",
          "name": "stdout",
          "text": [
            "169\n",
            "39672\n",
            "5.241379310344827\n",
            "-81\n"
          ]
        }
      ]
    },
    {
      "cell_type": "code",
      "source": [
        "# Example 6\n",
        "# What would happen if we assigned the value of a + b to a\n",
        "# try come up with an answer in your mind\n",
        "\n",
        "a = 6\n",
        "b = 10\n",
        "c = 12\n",
        "a = a + b\n",
        "\n",
        "print (a)"
      ],
      "metadata": {
        "colab": {
          "base_uri": "https://localhost:8080/"
        },
        "id": "Ljmnn8GJm9X9",
        "outputId": "2f5b260d-a6b5-426d-83f2-7720820bad9a"
      },
      "execution_count": null,
      "outputs": [
        {
          "output_type": "stream",
          "name": "stdout",
          "text": [
            "16\n"
          ]
        }
      ]
    },
    {
      "cell_type": "code",
      "source": [
        "print (a)\n"
      ],
      "metadata": {
        "colab": {
          "base_uri": "https://localhost:8080/"
        },
        "id": "LHS4Jy0On8zv",
        "outputId": "45e3cb2c-a242-46c1-a19e-08093b778202"
      },
      "execution_count": null,
      "outputs": [
        {
          "output_type": "stream",
          "name": "stdout",
          "text": [
            "16\n"
          ]
        }
      ]
    },
    {
      "cell_type": "code",
      "source": [
        "# Example 7\n",
        "# the increment operator\n",
        "\n",
        "x = 40\n",
        "y =51\n",
        "\n",
        "print (x + y)"
      ],
      "metadata": {
        "colab": {
          "base_uri": "https://localhost:8080/"
        },
        "id": "uzYonJs6oHZf",
        "outputId": "28734d67-0a1a-4ea6-fec8-cd82727f9bae"
      },
      "execution_count": null,
      "outputs": [
        {
          "output_type": "stream",
          "name": "stdout",
          "text": [
            "91\n"
          ]
        }
      ]
    },
    {
      "cell_type": "code",
      "source": [
        "y += x\n",
        "\n",
        "print (y)"
      ],
      "metadata": {
        "colab": {
          "base_uri": "https://localhost:8080/"
        },
        "id": "1SSeXiYJofFx",
        "outputId": "1969ffbc-4eb2-4014-9ef0-6ed864cdc5cc"
      },
      "execution_count": null,
      "outputs": [
        {
          "output_type": "stream",
          "name": "stdout",
          "text": [
            "91\n"
          ]
        }
      ]
    },
    {
      "cell_type": "code",
      "source": [
        "# Example 8\n",
        "\n",
        "z = 50\n",
        "k =4"
      ],
      "metadata": {
        "id": "Z4-oSqvoo0mM"
      },
      "execution_count": null,
      "outputs": []
    },
    {
      "cell_type": "code",
      "source": [
        "# decrement operator\n",
        "k -= 50\n",
        "\n",
        "print(k)"
      ],
      "metadata": {
        "colab": {
          "base_uri": "https://localhost:8080/"
        },
        "id": "n22VzsN4o8Nq",
        "outputId": "991fd46b-3815-4e32-d330-684a63e4d14f"
      },
      "execution_count": null,
      "outputs": [
        {
          "output_type": "stream",
          "name": "stdout",
          "text": [
            "-46\n"
          ]
        }
      ]
    },
    {
      "cell_type": "code",
      "source": [
        "# Example 9\n",
        "# the exponent operator\n",
        "\n",
        "# how do we get the value of 4 squared\n",
        "\n",
        "print (4 ** 3) # the double ** denotes the exponent(power)"
      ],
      "metadata": {
        "colab": {
          "base_uri": "https://localhost:8080/"
        },
        "id": "hIjC39wepXab",
        "outputId": "e51582a0-b36e-4132-ddd9-dcd241481615"
      },
      "execution_count": null,
      "outputs": [
        {
          "output_type": "stream",
          "name": "stdout",
          "text": [
            "64\n"
          ]
        }
      ]
    },
    {
      "cell_type": "code",
      "source": [
        "# Example 10\n",
        "# the modulo operator\n",
        "\n",
        "print (18 % 7)"
      ],
      "metadata": {
        "colab": {
          "base_uri": "https://localhost:8080/"
        },
        "id": "4MLo58FApdpq",
        "outputId": "40ea53b0-7c13-4b2d-efe7-5cc9ca202a4c"
      },
      "execution_count": null,
      "outputs": [
        {
          "output_type": "stream",
          "name": "stdout",
          "text": [
            "4\n"
          ]
        }
      ]
    },
    {
      "cell_type": "code",
      "source": [
        "# Example 10\n",
        "# the modulo operator\n",
        "\n",
        "print (18 % 7)"
      ],
      "metadata": {
        "colab": {
          "base_uri": "https://localhost:8080/"
        },
        "id": "ybHoF7--pkhR",
        "outputId": "306a8af6-0b20-4c6c-b168-215cb1abbf0f"
      },
      "execution_count": null,
      "outputs": [
        {
          "output_type": "stream",
          "name": "stdout",
          "text": [
            "4\n"
          ]
        }
      ]
    },
    {
      "cell_type": "code",
      "source": [
        "# Challenge 9\n",
        "# Three persons have three notes of Ksh.50, Ksh.100 and Ksh.500.\n",
        "# Create three variables; person 1, person 2 and person 3 then\n",
        "# Find out the average of their money and display it below.\n",
        "#\n",
        "\n",
        "# Assign money values to each person\n",
        "person1 = 50     # Ksh.50\n",
        "person2 = 100    # Ksh.100\n",
        "person3 = 500    # Ksh.500\n",
        "\n",
        "# Calculate the average amount of money\n",
        "average = (person1 + person2 + person3) / 3\n",
        "\n",
        "# Display the result\n",
        "print(\"The average amount of money is: Ksh.\", average)\n",
        "\n",
        "\n",
        "\n"
      ],
      "metadata": {
        "id": "FDWvaEnOpo-F",
        "colab": {
          "base_uri": "https://localhost:8080/"
        },
        "outputId": "5f61b4e9-014b-4a98-c9bc-e91c6e428cac"
      },
      "execution_count": null,
      "outputs": [
        {
          "output_type": "stream",
          "name": "stdout",
          "text": [
            "The average amount of money is: Ksh. 216.66666666666666\n"
          ]
        }
      ]
    },
    {
      "cell_type": "code",
      "source": [
        "# Challenge 10\n",
        "# An online shop sells designer jeans and t-shirts.\n",
        "# Each jeans costs Ksh. 4500 and t-shirt costs Ksh. 2500.\n",
        "# Calculate the cost below if you were to buy 3 pairs of jeans and 6 t-shirts\n",
        "# using variables and operators.\n",
        "#\n",
        "\n",
        "# creating the tshirt and jeans cost variables\n",
        "jeans = 4500\n",
        "tshirt = 2500\n",
        "\n",
        "# defining the cost as a variable\n",
        "cost = jeans * 3 + tshirt * 6\n",
        "\n",
        "# view the output of the cost\n",
        "print (cost)"
      ],
      "metadata": {
        "colab": {
          "base_uri": "https://localhost:8080/"
        },
        "id": "mJQlBtywr1y7",
        "outputId": "0be3019b-a316-40dd-bfe8-9b00ffdad066"
      },
      "execution_count": null,
      "outputs": [
        {
          "output_type": "stream",
          "name": "stdout",
          "text": [
            "28500\n"
          ]
        }
      ]
    },
    {
      "cell_type": "code",
      "source": [
        "# Challenge 11\n",
        "# We have Ksh 1000, which you invest with a 10% return each year.\n",
        "# After one year, it's 1000 × 1.1 = 1100 shillings, and after two years\n",
        "# it's 1000 × 1.1 × 1.1 = 121.\n",
        "# Now, write code below to calculate how much money\n",
        "# you would end up with after 7 years.\n",
        "# How much is your Ksh. 1000 worth after 15 years?\n",
        "# ----------\n",
        "# Hint: Instead of calculating with the actual values, you can use variables instead.\n",
        "# The savings variable you've created in the previous exercise represents the Ksh 1000 you started with.\n",
        "# It's up to you to create a new variable to represent 1.1 and then redo the calculations!\n",
        "# ----------\n",
        "\n",
        "# We can recreate the savings variable that we will use below\n",
        "#\n",
        "savings = 1000\n",
        "\n",
        "# and create a growth_multiplier variable that is equal to 1.1.\n",
        "\n",
        "# Then create a result variable and equal it to the amount of money you saved after 7 years.\n",
        "\n",
        "\n",
        "# Then print out the value of result below\n",
        "\n",
        "# Initial savings\n",
        "savings = 1000\n",
        "\n",
        "# Annual growth multiplier (10% increase each year)\n",
        "growth_multiplier = 1.1\n",
        "\n",
        "# Calculate savings after 7 years\n",
        "result = savings * (growth_multiplier ** 7)\n",
        "\n",
        "# Print the result after 7 years\n",
        "print(\"After 7 years, your Ksh. 1000 is worth: Ksh.\", round(result, 2))\n",
        "\n",
        "# Calculate savings after 15 years\n",
        "result_15_years = savings * (growth_multiplier ** 15)\n",
        "\n",
        "# Print the result after 15 years\n",
        "print(\"After 15 years, your Ksh. 1000 is worth: Ksh.\", round(result_15_years, 2))\n"
      ],
      "metadata": {
        "colab": {
          "base_uri": "https://localhost:8080/"
        },
        "id": "_Uhgfy9PsCYH",
        "outputId": "219db05d-7198-4133-8374-83a3b0f83190"
      },
      "execution_count": null,
      "outputs": [
        {
          "output_type": "stream",
          "name": "stdout",
          "text": [
            "After 7 years, your Ksh. 1000 is worth: Ksh. 1948.72\n",
            "After 15 years, your Ksh. 1000 is worth: Ksh. 4177.25\n"
          ]
        }
      ]
    },
    {
      "cell_type": "markdown",
      "source": [
        "Inputs"
      ],
      "metadata": {
        "id": "QsHHi2WtH2EJ"
      }
    },
    {
      "cell_type": "code",
      "source": [
        "# programs\n",
        "password = input ( 'Enter your password')\n",
        "print ( password)"
      ],
      "metadata": {
        "colab": {
          "base_uri": "https://localhost:8080/"
        },
        "id": "BcEeSILpH4x_",
        "outputId": "1de19cc7-68c9-4658-f792-8657624cd1af"
      },
      "execution_count": null,
      "outputs": [
        {
          "output_type": "stream",
          "name": "stdout",
          "text": [
            "Enter your password Favour 27\n",
            " Favour 27\n"
          ]
        }
      ]
    },
    {
      "cell_type": "code",
      "source": [
        "# Challenge 12\n",
        "# Reading up on password hashing technique"
      ],
      "metadata": {
        "id": "rGCXfnr2IZja"
      },
      "execution_count": null,
      "outputs": []
    },
    {
      "cell_type": "code",
      "source": [
        "# Example 12\n",
        "\n",
        "#\n",
        "\n",
        "name = input ('Enter your name:')\n",
        "print (' Guten Abend' ,name)"
      ],
      "metadata": {
        "colab": {
          "base_uri": "https://localhost:8080/"
        },
        "id": "u4zqMpKCIkf9",
        "outputId": "b3252aee-0126-4a7c-addf-5a16e72b74dd"
      },
      "execution_count": null,
      "outputs": [
        {
          "output_type": "stream",
          "name": "stdout",
          "text": [
            "Enter your name:Paulette\n",
            " Guten Abend Paulette\n"
          ]
        }
      ]
    },
    {
      "cell_type": "code",
      "source": [
        "# Example 13\n",
        "#\n",
        "g= input ('Enter a number:')\n",
        "g = int (g)\n",
        "print (g+10)\n"
      ],
      "metadata": {
        "colab": {
          "base_uri": "https://localhost:8080/"
        },
        "id": "vnins1BVJ0Ey",
        "outputId": "65f3776f-b73b-436c-890f-a7593e265438"
      },
      "execution_count": null,
      "outputs": [
        {
          "output_type": "stream",
          "name": "stdout",
          "text": [
            "Enter a number:10\n",
            "20\n"
          ]
        }
      ]
    },
    {
      "cell_type": "code",
      "source": [
        "#Example 14\n",
        "# Lets get the sum of two numbers from a user's input\n",
        "#\n",
        "x= input ('Enter the first number:')\n",
        "x= int (x)\n",
        "y= input ('Enter the second number:')\n",
        "y= int (y)\n",
        "\n",
        "print ( x+ y)"
      ],
      "metadata": {
        "colab": {
          "base_uri": "https://localhost:8080/"
        },
        "id": "qK-cDcvqKgtX",
        "outputId": "2d63bba1-0469-401a-cfb1-562df9b7cd23"
      },
      "execution_count": null,
      "outputs": [
        {
          "output_type": "stream",
          "name": "stdout",
          "text": [
            "Enter the first number:9\n",
            "Enter the second number:7\n",
            "16\n"
          ]
        }
      ]
    },
    {
      "cell_type": "code",
      "source": [
        "# Example 15\n",
        "#\n",
        "\n",
        "note = input ( 'Enter your note value')\n",
        "note = int(500)\n",
        "change = note - 50\n",
        "den_100= int(change/ 100)\n",
        "den_50= int((change%100)/50)\n",
        "\n",
        "#output the notes the machine should give us\n",
        "print ('ksh 100 notes :', den_100, 'n ksh 50 notes ',den_50)\n"
      ],
      "metadata": {
        "colab": {
          "base_uri": "https://localhost:8080/"
        },
        "id": "eWRhor5TMw4m",
        "outputId": "dc8a4437-c073-4782-bde4-4b2d1c600f5d"
      },
      "execution_count": null,
      "outputs": [
        {
          "output_type": "stream",
          "name": "stdout",
          "text": [
            "Enter your note value500\n",
            "ksh 100 notes : 4 n ksh 50 notes  1\n"
          ]
        }
      ]
    },
    {
      "cell_type": "code",
      "source": [
        "#challenge 13 ( homework)\n",
        "# Given a certain column of data that has radius, a data scientist would like\n",
        "# to compute the volume the respective cylinder and save the result to a new column.\n",
        "# Thus, write a program that reads the radius of cylinder, along with its height\n",
        "# from the user to calculate the volume in the console.\n",
        "#\n",
        "\n",
        "# Prompt the user to input the radius\n",
        "radius = input(\"Enter the radius of the cylinder: \")\n",
        "radius = float(radius)\n",
        "\n",
        "# Prompt the user to input the height\n",
        "height = input(\"Enter the height of the cylinder: \")\n",
        "height = float(height)\n",
        "\n",
        "# Calculate the volume of the cylinder\n",
        "volume = 3.14 * radius**2 * height\n",
        "\n",
        "# Display the result\n",
        "print(\"The volume of the cylinder is:\", volume)\n"
      ],
      "metadata": {
        "id": "ZNIOCEGyP0rY",
        "colab": {
          "base_uri": "https://localhost:8080/"
        },
        "outputId": "0e7101ad-98de-4fc8-f9a9-c4363e552ee4"
      },
      "execution_count": null,
      "outputs": [
        {
          "output_type": "stream",
          "name": "stdout",
          "text": [
            "Enter the radius of the cylinder: 2\n",
            "Enter the height of the cylinder: 2\n",
            "The volume of the cylinder is: 25.12\n"
          ]
        }
      ]
    },
    {
      "cell_type": "code",
      "source": [],
      "metadata": {
        "id": "sIhiWd9X_PFj"
      },
      "execution_count": null,
      "outputs": []
    },
    {
      "cell_type": "code",
      "source": [
        "# challenge 14( homework)\n",
        "# Many people around the world think about their height in feet and inches\n",
        "# even here in Africa where many countries use the metric system.\n",
        "# Write a program reads the height in metres then converts it to\n",
        "# feet and inches. The program should display the equivalent\n",
        "# height in feet and inches.\n",
        "# NB: You can look up the necessary conversion factors on the web.\n",
        "#\n",
        "\n",
        "# try the teacher's height which is 1.86 metres\n",
        "\n",
        "\n",
        "#height_metres = input(\"Enter your height in metres: \")\n",
        "#height_metres = float(height_metres)\n",
        "\n",
        "\n",
        "# Convert height in metres to feet and inches\n",
        "\n",
        "# Conversion factors\n",
        "METRES_TO_FEET = 3.28084\n",
        "INCHES_IN_FOOT = 12\n",
        "\n",
        "# Example height (teacher's height)\n",
        "height_metres = 1.86\n",
        "\n",
        "# Convert to total feet\n",
        "total_feet = height_metres * METRES_TO_FEET\n",
        "\n",
        "# Separate into feet and inches\n",
        "feet = int(total_feet)\n",
        "inches = (total_feet - feet) * INCHES_IN_FOOT\n",
        "inches = round(inches)  # Round to nearest whole number\n",
        "\n",
        "# Display result\n",
        "print(f\"{height_metres} metres is approximately {feet} feet and {inches} inches.\")\n",
        "\n"
      ],
      "metadata": {
        "id": "sowoxGs5QZHF",
        "colab": {
          "base_uri": "https://localhost:8080/"
        },
        "outputId": "b6f6b993-e7bf-4c79-dea3-32edc8a02469"
      },
      "execution_count": null,
      "outputs": [
        {
          "output_type": "stream",
          "name": "stdout",
          "text": [
            "1.86 metres is approximately 6 feet and 1 inches.\n"
          ]
        }
      ]
    },
    {
      "cell_type": "markdown",
      "source": [
        "Data Types"
      ],
      "metadata": {
        "id": "qdV1lywfQfNL"
      }
    },
    {
      "cell_type": "code",
      "source": [
        "age=[ 30,16,20]\n",
        "names= ['Kilemi, 'Naomi', 'Victor']\n",
        "premier_league = [ True,False ,False]"
      ],
      "metadata": {
        "id": "WHK2SNyLQjRt"
      },
      "execution_count": null,
      "outputs": []
    },
    {
      "cell_type": "code",
      "source": [
        "# Example 16\n",
        "\n",
        "age= [ 30,16, 20] #integer data types in age\n",
        "mpesa =[0.97,17.35,50.2] # floats\n",
        "names = [ 'Kilemi'.'Naomi''Victor'] # Strings\n",
        "premier_league = [ True,False,False] #boolean"
      ],
      "metadata": {
        "id": "nHAiDzMcSsgq"
      },
      "execution_count": null,
      "outputs": []
    },
    {
      "cell_type": "code",
      "source": [
        "# Example 17\n",
        "# integer data type\n",
        "\n",
        "x = int(50) # int function function denotes an integer\n",
        "print(x)\n"
      ],
      "metadata": {
        "id": "T5mErOrPUUTJ",
        "colab": {
          "base_uri": "https://localhost:8080/"
        },
        "outputId": "042a6caa-29e8-45bc-dc2b-23a5a0f84544"
      },
      "execution_count": null,
      "outputs": [
        {
          "output_type": "stream",
          "name": "stdout",
          "text": [
            "50\n"
          ]
        }
      ]
    },
    {
      "cell_type": "code",
      "source": [
        "# Example 18\n",
        "# float data type\n",
        "a = float(3.142) # pi is a float\n",
        "\n",
        "print (a)"
      ],
      "metadata": {
        "colab": {
          "base_uri": "https://localhost:8080/"
        },
        "id": "IvAkwywkUcoH",
        "outputId": "27ec06aa-4bd5-4dbe-bd2d-4932e11e3f44"
      },
      "execution_count": null,
      "outputs": [
        {
          "output_type": "stream",
          "name": "stdout",
          "text": [
            "3.142\n"
          ]
        }
      ]
    },
    {
      "cell_type": "code",
      "source": [
        "# Example 19\n",
        "#\n",
        "\n",
        "class_word = 'This is Epic Data Science'\n",
        "print ( class_word)"
      ],
      "metadata": {
        "colab": {
          "base_uri": "https://localhost:8080/"
        },
        "id": "2gLoxcI9U4k7",
        "outputId": "6e08e14f-b4ea-437f-d6d8-48b1bb597a40"
      },
      "execution_count": null,
      "outputs": [
        {
          "output_type": "stream",
          "name": "stdout",
          "text": [
            "This is Epic Data Science\n"
          ]
        }
      ]
    },
    {
      "cell_type": "markdown",
      "source": [
        "#### Finding out Types of Data"
      ],
      "metadata": {
        "id": "60uyfboXXhNA"
      }
    },
    {
      "cell_type": "code",
      "source": [
        "# Example 20\n",
        "#Find out the tpe 50\n",
        "type(50 ) # using the type function"
      ],
      "metadata": {
        "colab": {
          "base_uri": "https://localhost:8080/"
        },
        "id": "jhVScmheXpH-",
        "outputId": "3ebf6754-0d80-4380-cb63-8365be877218"
      },
      "execution_count": null,
      "outputs": [
        {
          "output_type": "execute_result",
          "data": {
            "text/plain": [
              "int"
            ]
          },
          "metadata": {},
          "execution_count": 35
        }
      ]
    },
    {
      "cell_type": "code",
      "source": [
        "#Example 21\n",
        "type (3.142)"
      ],
      "metadata": {
        "colab": {
          "base_uri": "https://localhost:8080/"
        },
        "id": "cdl-OHg1X6qH",
        "outputId": "da38dad9-dddd-497c-e4ce-6cd8a73b465a"
      },
      "execution_count": null,
      "outputs": [
        {
          "output_type": "execute_result",
          "data": {
            "text/plain": [
              "float"
            ]
          },
          "metadata": {},
          "execution_count": 36
        }
      ]
    },
    {
      "cell_type": "code",
      "source": [
        "# Example 22\n",
        "type ('Epic Learn')"
      ],
      "metadata": {
        "colab": {
          "base_uri": "https://localhost:8080/"
        },
        "id": "K1vk9qWPYDW7",
        "outputId": "3da5d92a-7b86-47a7-8d01-62c4988a6b46"
      },
      "execution_count": null,
      "outputs": [
        {
          "output_type": "execute_result",
          "data": {
            "text/plain": [
              "str"
            ]
          },
          "metadata": {},
          "execution_count": 37
        }
      ]
    },
    {
      "cell_type": "code",
      "source": [
        "# challenge 16\n",
        "# What is the data type of the result of 16/ 4?\n",
        "result = 16/4\n",
        "type (result)\n",
        "\n"
      ],
      "metadata": {
        "colab": {
          "base_uri": "https://localhost:8080/"
        },
        "id": "Rwdo3TsYYX2z",
        "outputId": "8313d0fd-a33f-4864-aa72-94604810b057"
      },
      "execution_count": null,
      "outputs": [
        {
          "output_type": "execute_result",
          "data": {
            "text/plain": [
              "float"
            ]
          },
          "metadata": {},
          "execution_count": 41
        }
      ]
    },
    {
      "cell_type": "code",
      "source": [
        "# challenge 17\n",
        "#what is the type of the result of: 6// 2?\n",
        "result = 6//2\n",
        "type (result)"
      ],
      "metadata": {
        "colab": {
          "base_uri": "https://localhost:8080/"
        },
        "id": "dmm6bnTmZApL",
        "outputId": "d68fec03-a86b-485d-e23b-3f51e6871b48"
      },
      "execution_count": null,
      "outputs": [
        {
          "output_type": "execute_result",
          "data": {
            "text/plain": [
              "int"
            ]
          },
          "metadata": {},
          "execution_count": 43
        }
      ]
    },
    {
      "cell_type": "code",
      "source": [
        "#Challenge 18\n",
        "# What do you think is the output of the cell?\n",
        "# Think about it then run it.\n",
        "\n",
        "# type (3.2)-- float\n",
        "type(3.2)\n",
        "\n"
      ],
      "metadata": {
        "colab": {
          "base_uri": "https://localhost:8080/"
        },
        "id": "J9HLk4lJZc6d",
        "outputId": "75143133-ea91-4891-8996-b7d1144ed8f4"
      },
      "execution_count": null,
      "outputs": [
        {
          "output_type": "execute_result",
          "data": {
            "text/plain": [
              "float"
            ]
          },
          "metadata": {},
          "execution_count": 46
        }
      ]
    },
    {
      "cell_type": "code",
      "source": [
        "#Example 23\n",
        "\n",
        "True"
      ],
      "metadata": {
        "colab": {
          "base_uri": "https://localhost:8080/"
        },
        "id": "ZVY__fAAauqS",
        "outputId": "e6d1618c-c97c-41fb-ce71-9100d98361fd"
      },
      "execution_count": null,
      "outputs": [
        {
          "output_type": "execute_result",
          "data": {
            "text/plain": [
              "True"
            ]
          },
          "metadata": {},
          "execution_count": 47
        }
      ]
    },
    {
      "cell_type": "code",
      "source": [
        "#Example 24\n",
        "\n",
        "False"
      ],
      "metadata": {
        "colab": {
          "base_uri": "https://localhost:8080/"
        },
        "id": "hJzg2zCfaz2E",
        "outputId": "b3939e6e-251c-4660-ff2d-aebb292a03be"
      },
      "execution_count": null,
      "outputs": [
        {
          "output_type": "execute_result",
          "data": {
            "text/plain": [
              "False"
            ]
          },
          "metadata": {},
          "execution_count": 49
        }
      ]
    },
    {
      "cell_type": "code",
      "source": [
        "#Example 25\n",
        "\n",
        "type ( False)"
      ],
      "metadata": {
        "colab": {
          "base_uri": "https://localhost:8080/"
        },
        "id": "w6y5xJ5Qa7NS",
        "outputId": "dc943af7-7331-4e84-b8cb-2a5d310cca7e"
      },
      "execution_count": null,
      "outputs": [
        {
          "output_type": "execute_result",
          "data": {
            "text/plain": [
              "bool"
            ]
          },
          "metadata": {},
          "execution_count": 50
        }
      ]
    },
    {
      "cell_type": "markdown",
      "source": [
        "###Conditional Statement\n"
      ],
      "metadata": {
        "id": "J8TNfbtl_9ZK"
      }
    },
    {
      "cell_type": "code",
      "source": [
        "# Example 26\n",
        "# the if statement\n",
        "#\n",
        "\n",
        "x=200\n",
        "y= 100\n",
        "if y < x:\n",
        "  print ('y is less than x')"
      ],
      "metadata": {
        "colab": {
          "base_uri": "https://localhost:8080/"
        },
        "id": "ETVPVuF-AK3h",
        "outputId": "d3ef6319-6e03-4c26-ec4f-1adaaa105936"
      },
      "execution_count": null,
      "outputs": [
        {
          "output_type": "stream",
          "name": "stdout",
          "text": [
            "y is less than x\n"
          ]
        }
      ]
    },
    {
      "cell_type": "code",
      "source": [
        "# Example 27\n",
        "# using inputs for the if statements\n",
        "x= input('Enter a value of x:')\n",
        "y= input('Enter a value of y:')\n",
        "if y < x:\n",
        "  print ('y is less than x')"
      ],
      "metadata": {
        "colab": {
          "base_uri": "https://localhost:8080/"
        },
        "id": "TTSdgSujA92B",
        "outputId": "f1dc263a-a889-434f-ad5f-89ff01a4a275"
      },
      "execution_count": null,
      "outputs": [
        {
          "output_type": "stream",
          "name": "stdout",
          "text": [
            "Enter a value of x:40\n",
            "Enter a value of y:20\n",
            "y is less than x\n"
          ]
        }
      ]
    },
    {
      "cell_type": "code",
      "source": [
        "# Example 28( else if)\n",
        "# elif keyword that tries another condition is the first one is not met\n",
        "\n",
        "x= 33\n",
        "y= 34\n",
        "\n",
        "if y < x:\n",
        "  print ('y is less than x')\n",
        "elif x == y:\n",
        "\n",
        "    print ('x and y are equal')\n",
        "elif y> x:\n",
        "  print ('y is greater than x')"
      ],
      "metadata": {
        "colab": {
          "base_uri": "https://localhost:8080/"
        },
        "id": "yyDuvbLCBmxC",
        "outputId": "438181a1-2ee9-498a-fb25-dbb47df9e655"
      },
      "execution_count": null,
      "outputs": [
        {
          "output_type": "stream",
          "name": "stdout",
          "text": [
            "y is greater than x\n"
          ]
        }
      ]
    },
    {
      "cell_type": "code",
      "source": [
        "# Example 29\n",
        "# write a program that takes an integer and then tells us\n",
        "# whether the integer is odd or even\n",
        "\n",
        "x = input(\"Enter an integer: \")\n",
        "x = int(x)\n",
        "if (x % 2) != 0: # the (i=) denotes is not equal to\n",
        "  print (\"x is odd\")\n",
        "elif (x % 2) == 0: # the (==) indicates explicit results\n",
        "  print (\"x is even\")\n"
      ],
      "metadata": {
        "colab": {
          "base_uri": "https://localhost:8080/"
        },
        "id": "WYx2KyZ7D0oh",
        "outputId": "e1cb51ec-7ca3-422d-fe5f-e2f6da8fb2ed"
      },
      "execution_count": null,
      "outputs": [
        {
          "output_type": "stream",
          "name": "stdout",
          "text": [
            "Enter an integer: 19\n",
            "x is odd\n"
          ]
        }
      ]
    },
    {
      "cell_type": "code",
      "source": [
        "# challenge 15\n",
        "# can you write a program  that has a third oprion to detect prime numbers?\n",
        "#\n",
        "\n",
        "x = input(\"Enter an integer: \")\n",
        "x = int(x)\n",
        "if (x % 2) != 0: # the (i=) denotes is not equal to\n",
        "  print (\"x is odd\")\n",
        "elif (x % 2) == 0: # the (==) indicates explicit results\n",
        "  print (\"x is even\")\n",
        "# prime numbers are divisible by one and itself 2,3,5,7,11,13,17,19\n",
        "\n",
        "\n",
        "\n",
        "\n"
      ],
      "metadata": {
        "id": "r2bR9QpFFoaN",
        "colab": {
          "base_uri": "https://localhost:8080/"
        },
        "outputId": "660ec53b-4e2c-45fd-b742-33a1b5f51529"
      },
      "execution_count": null,
      "outputs": [
        {
          "output_type": "stream",
          "name": "stdout",
          "text": [
            "Enter an integer: 3\n",
            "x is odd\n"
          ]
        }
      ]
    },
    {
      "cell_type": "code",
      "source": [
        "# challenge 16 ( Homework)\n",
        "# We now write a program that reads a input from a user.\n",
        "# If the user enters a, e, i, o or u then our program should\n",
        "# display a message indicating that the entered letter is a vowel.\n",
        "# If our user enters y then our program should display a message\n",
        "# indicating that sometimes y is a vowel, and sometimes y is a consonant.\n",
        "# Otherwise our program should display a message indicating that the\n",
        "# letter is a consonant.\n",
        "#\n",
        "\n",
        "letter = input(\"Enter a single letter: \").lower()\n",
        "\n",
        "# Check and display the appropriate message\n",
        "if letter in ('a', 'e', 'i', 'o', 'u'):\n",
        "    print(\"The letter is a vowel.\")\n",
        "elif letter == 'y':\n",
        "    print(\"Sometimes y is a vowel, and sometimes y is a consonant.\")\n",
        "else:\n",
        "    print(\"The letter is a consonant.\")\n",
        "\n",
        "\n"
      ],
      "metadata": {
        "id": "z2rK5ZPpG4gH",
        "colab": {
          "base_uri": "https://localhost:8080/"
        },
        "outputId": "0015151e-f6a8-4ef3-f16b-2265f3392665"
      },
      "execution_count": null,
      "outputs": [
        {
          "output_type": "stream",
          "name": "stdout",
          "text": [
            "Enter a single letter: b\n",
            "The letter is a consonant.\n"
          ]
        }
      ]
    },
    {
      "cell_type": "code",
      "source": [
        "# Challenge 17\n",
        "# Lets now also write another program that asks for a number and computes the\n",
        "#square of that number. If the square is 100 or greater,print the sqaured value\n",
        "# and the word 'big' . Otherwise if the square is 50 or greater,print the\n",
        "# squared value and the word 'medium'. Otherwise just print 'too small to bother\n",
        "# Hint: To compute squared, use x*x or x** 2\n",
        "#\n",
        "\n",
        "x = input(\"Enter a number: \")\n",
        "x = int(x)\n",
        "y = x ** 2\n",
        "if y >= 100:\n",
        "  print (y, \"is big\")\n",
        "elif y >= 50:\n",
        "  print (y, \"is medium\")\n",
        "elif (y < 50):\n",
        "  print (y, \"is too small to bother\")\n",
        "\n"
      ],
      "metadata": {
        "id": "bLYO92dXG_vY",
        "colab": {
          "base_uri": "https://localhost:8080/"
        },
        "outputId": "c9025c56-bff7-42a5-a6e5-60a39525a4b7"
      },
      "execution_count": null,
      "outputs": [
        {
          "output_type": "stream",
          "name": "stdout",
          "text": [
            "Enter a number: 12\n",
            "144 is big\n"
          ]
        }
      ]
    },
    {
      "cell_type": "markdown",
      "source": [
        "Else"
      ],
      "metadata": {
        "id": "spxSTtYIJEX8"
      }
    },
    {
      "cell_type": "code",
      "source": [
        "# Example 30\n",
        "x= input ('Enter a number: ')\n",
        "x= int(x)\n",
        "y = x ** 2\n",
        "if y >= 100:\n",
        "  print (y, \"is big\")\n",
        "else:\n",
        "  print (y, \"is small\")\n"
      ],
      "metadata": {
        "id": "a2arv-QSJGSb",
        "colab": {
          "base_uri": "https://localhost:8080/"
        },
        "outputId": "8a363670-791b-45a9-de17-b723c7875a74"
      },
      "execution_count": null,
      "outputs": [
        {
          "output_type": "stream",
          "name": "stdout",
          "text": [
            "Enter a number: 5\n",
            "25 is small\n"
          ]
        }
      ]
    },
    {
      "cell_type": "code",
      "source": [
        "# Example 31\n",
        "temp_outside = float(input('Enter the temperature outside: '))\n",
        "\n",
        "if temp_outside >= 26:\n",
        "  print (\"Do not wear a sweater\")\n",
        "else:\n",
        "  print (\"Wear a sweater\")\n"
      ],
      "metadata": {
        "id": "NF8ysX23Knud",
        "colab": {
          "base_uri": "https://localhost:8080/"
        },
        "outputId": "44a901d1-ba17-480b-c18a-cb694889b00d"
      },
      "execution_count": null,
      "outputs": [
        {
          "output_type": "stream",
          "name": "stdout",
          "text": [
            "Enter the temperature outside: 17\n",
            "Wear a sweater\n"
          ]
        }
      ]
    },
    {
      "cell_type": "code",
      "source": [
        "# challenge 18 ( Assignment)\n",
        "# Let's write a program that reads a month and day from the user\n",
        "# If the month and day matches one of the holidays listed previously\n",
        "# then the program should display the kenyan holiday's name\n",
        "# otherwise our program should indicate that the entered month and day\n",
        "# do not correspond to a holiday. ( You should use the else keyword)\n",
        "#\n",
        "\n",
        "# define the holidays in kenya\n",
        "kenya_holidays = {\n",
        "    (1,6) : \"Madaraka Day\",\n",
        "    (20,10) : \"Mashujaa Day\",\n",
        "    (12,12) : \"Jamhuri Day\"\n",
        "}\n",
        "\n",
        "# ask for input from the user\n",
        "day = int(input(\"Enter the day of the month: \"))\n",
        "month = int(input(\"Enter the month: \"))\n",
        "\n",
        "# check whether the input corresponds to a holiday\n",
        "if (day, month) in kenya_holidays:\n",
        "  print(f\"The day entered is {kenya_holidays[(day,month)]}\")\n",
        "else:\n",
        "  print(\"Today is not a holiday, work!\")\n"
      ],
      "metadata": {
        "id": "zElzd2wkLS44",
        "colab": {
          "base_uri": "https://localhost:8080/"
        },
        "outputId": "df72a7ea-ec59-47fb-bc12-88a5af29b809"
      },
      "execution_count": null,
      "outputs": [
        {
          "output_type": "stream",
          "name": "stdout",
          "text": [
            "Enter the day of the month: 20\n",
            "Enter the month: 10\n",
            "The day entered is Mashujaa Day\n"
          ]
        }
      ]
    },
    {
      "cell_type": "code",
      "source": [
        "#challenge 19( Assignment)\n",
        "# Let's create a program that reads the name of a month from the user as a string,\n",
        "# then displays the number of days in that month.\n",
        "# The length of a month varies from 28 to 31 days.\n",
        "# The program needs to also display “28 or 29 days” for February\n",
        "# so that leap years are taken into account.\n",
        "# The program should use the else keyword.\n",
        "#\n",
        "\n",
        "# Enter a month name\n",
        "month = input(\"Enter the name of a month: \").capitalize()\n",
        "\n",
        "# Check the number of days based on the month\n",
        "if month in (\"January\", \"March\", \"May\", \"July\", \"August\", \"October\", \"December\"):\n",
        "    print(f\"{month} has 31 days.\")\n",
        "elif month in (\"April\", \"June\", \"September\", \"November\"):\n",
        "    print(f\"{month} has 30 days.\")\n",
        "elif month == \"February\":\n",
        "    print(\"February has 28 or 29 days.\")\n",
        "else:\n",
        "    print(\"Invalid month name entered.\")\n",
        "\n",
        "\n"
      ],
      "metadata": {
        "id": "c-K3huTDPesC",
        "colab": {
          "base_uri": "https://localhost:8080/"
        },
        "outputId": "0cd5794d-a406-46f5-9722-8af8eda1fe48"
      },
      "execution_count": 42,
      "outputs": [
        {
          "output_type": "stream",
          "name": "stdout",
          "text": [
            "Enter the name of a month: February\n",
            "February has 28 or 29 days.\n"
          ]
        }
      ]
    },
    {
      "cell_type": "markdown",
      "source": [
        "AND\n"
      ],
      "metadata": {
        "id": "1BXDPAelRiUA"
      }
    },
    {
      "cell_type": "code",
      "source": [
        "# Example 32 use of and\n",
        "x = 11\n",
        "y = 10\n",
        "z = 12\n",
        "\n",
        "if x > y and z > x:\n",
        "  print(\"Both conditions are true\")\n"
      ],
      "metadata": {
        "id": "KhtvIEsyRpOA",
        "colab": {
          "base_uri": "https://localhost:8080/"
        },
        "outputId": "87d27cd4-1196-4638-99aa-961ad63f20d2"
      },
      "execution_count": 43,
      "outputs": [
        {
          "output_type": "stream",
          "name": "stdout",
          "text": [
            "Both conditions are true\n"
          ]
        }
      ]
    },
    {
      "cell_type": "code",
      "source": [
        "# Example 33\n",
        "\n",
        "name = \"Victor\"\n",
        "height = 180\n",
        "\n",
        "if name == \"Victor\" and height == 180:\n",
        "  print(\"Your name is Victor, and you are 180cm tall.\")"
      ],
      "metadata": {
        "colab": {
          "base_uri": "https://localhost:8080/"
        },
        "id": "IIWMZRRO1Ttj",
        "outputId": "5c9a77e7-aef0-46af-d87e-70c325669978"
      },
      "execution_count": 44,
      "outputs": [
        {
          "output_type": "stream",
          "name": "stdout",
          "text": [
            "Your name is Victor, and you are 180cm tall.\n"
          ]
        }
      ]
    },
    {
      "cell_type": "markdown",
      "source": [
        "OR"
      ],
      "metadata": {
        "id": "v_YfT4Eu1fE6"
      }
    },
    {
      "cell_type": "code",
      "source": [
        "# Example 34\n",
        "# Declaring our variables\n",
        "\n",
        "x = 10\n",
        "y = 11\n",
        "z = 12\n",
        "\n",
        "if x > y or x>z:\n",
        "  print(\"One of the conditions is true\")\n",
        "else:\n",
        "  print (\"Neither of the conditions is true\")"
      ],
      "metadata": {
        "colab": {
          "base_uri": "https://localhost:8080/"
        },
        "id": "pZiJczBf1hoG",
        "outputId": "09db68d8-b35f-4d1e-86db-95d380cacf65"
      },
      "execution_count": 45,
      "outputs": [
        {
          "output_type": "stream",
          "name": "stdout",
          "text": [
            "Neither of the conditions is true\n"
          ]
        }
      ]
    },
    {
      "cell_type": "code",
      "source": [
        "# Example 35\n",
        "# declaring our variables\n",
        "\n",
        "w = 10\n",
        "x = 15\n",
        "y = 20\n",
        "z = 25\n",
        "\n",
        "if (w ==10 or x == 15) or (y == 16 or z==25):\n",
        "  print(\"The statement is true\")\n",
        "else:\n",
        "  print(\"False\")"
      ],
      "metadata": {
        "colab": {
          "base_uri": "https://localhost:8080/"
        },
        "id": "1LnYr08q1oSq",
        "outputId": "630ebd3a-b4b5-4727-8cad-2ec3a9fc9979"
      },
      "execution_count": 46,
      "outputs": [
        {
          "output_type": "stream",
          "name": "stdout",
          "text": [
            "The statement is true\n"
          ]
        }
      ]
    },
    {
      "cell_type": "code",
      "source": [
        "#challenge 20\n",
        "# Write a program that reads a wavelength from the user and report its\n",
        "# Display an appropriate error message is the wavelength entered by the user\n",
        "# is outside of the visible spectrum\n",
        "# ( You can do external research on this challenge to determine the wavelength)\n",
        "#You should use the else keyword\n",
        "\n",
        "# define the range of the visible spectrum (given in nano metres)\n",
        "spectrum_min = 380\n",
        "spectrum_max = 750\n",
        "\n",
        "# get wavelength input from the user\n",
        "wavelength = float(input(\"Enter the wavelength: \"))\n",
        "\n",
        "# check if wavelength is within visible spectrum\n",
        "if spectrum_min <= wavelength <= spectrum_max:\n",
        "  # determine the color based on wavelength\n",
        "  if 380 <= wavelength < 450:\n",
        "    color = \"Violet\"\n",
        "  elif 450 <= wavelength < 495:\n",
        "    color = \"Blue\"\n",
        "  elif 495 <= wavelength < 570:\n",
        "    color = \"Green\"\n",
        "  elif 570 <= wavelength < 590:\n",
        "    color = \"Yellow\"\n",
        "  elif 590 <= wavelength < 620:\n",
        "    color = \"Orange\"\n",
        "  else:\n",
        "    color = \"Red\"\n",
        "  print (f\"The color for a wavelength of {wavelength} nm is {color}\")\n",
        "else:\n",
        "  print(f\"The wavelength {wavelength} nm is outside the visible spectrum\")\n",
        "\n"
      ],
      "metadata": {
        "colab": {
          "base_uri": "https://localhost:8080/"
        },
        "id": "Y0tY-WmzL8Go",
        "outputId": "f4370506-3a76-4e76-fae1-963b87920817"
      },
      "execution_count": 47,
      "outputs": [
        {
          "output_type": "stream",
          "name": "stdout",
          "text": [
            "Enter the wavelength: 480\n",
            "The color for a wavelength of 480.0 nm is Blue\n"
          ]
        }
      ]
    },
    {
      "cell_type": "markdown",
      "source": [
        "Loops and Iterations"
      ],
      "metadata": {
        "id": "BohuQz0IWWW7"
      }
    },
    {
      "cell_type": "code",
      "source": [
        "#using [ for]\n",
        "#Example : Iterations over a range\n",
        "for I in range(5):\n",
        "  print (f\" Iteration {I}\")"
      ],
      "metadata": {
        "colab": {
          "base_uri": "https://localhost:8080/"
        },
        "id": "q0PR1M7ZWgVU",
        "outputId": "9dc502b6-7ba6-4a6c-97aa-444c824274dd"
      },
      "execution_count": null,
      "outputs": [
        {
          "output_type": "stream",
          "name": "stdout",
          "text": [
            " Iteration 0\n",
            " Iteration 1\n",
            " Iteration 2\n",
            " Iteration 3\n",
            " Iteration 4\n"
          ]
        }
      ]
    },
    {
      "cell_type": "code",
      "source": [
        "# displayinh game levels\n",
        "\n",
        "levels =[\" Level 1: Amateur\",\n",
        "        \"Level 2: Regular\",\n",
        "         \"Level 3: Professional\",\n",
        "         \"Level 4: Top Player\",\n",
        "         \"Level 5: Superstar\",\n",
        "         \"Level 6: Legendary\",\n",
        "         ]\n",
        "for level in levels:\n",
        "    print(f\"welcome to {level}\")\n",
        "\n",
        "\n"
      ],
      "metadata": {
        "colab": {
          "base_uri": "https://localhost:8080/"
        },
        "id": "WxCIWi85aCZw",
        "outputId": "6799e1e2-2526-44e4-c769-a8ea2b759eb5"
      },
      "execution_count": null,
      "outputs": [
        {
          "output_type": "stream",
          "name": "stdout",
          "text": [
            "welcome to  Level 1: Amateur\n",
            "welcome to Level 2: Regular\n",
            "welcome to Level 3: Professional\n",
            "welcome to Level 4: Top Player\n",
            "welcome to Level 5: Superstar\n",
            "welcome to Level 6: Legendary\n"
          ]
        }
      ]
    },
    {
      "cell_type": "code",
      "source": [
        "#using the while loop\n",
        "# loops until a condition is met\n",
        "\n",
        "count = 0\n",
        "while count < 10:\n",
        "  print(f\"Iteration {count}\")\n",
        "  count += 1\n"
      ],
      "metadata": {
        "colab": {
          "base_uri": "https://localhost:8080/"
        },
        "id": "zdj0NOpGcKI1",
        "outputId": "f890002f-78bb-451b-9666-5bb4f6e4779e"
      },
      "execution_count": null,
      "outputs": [
        {
          "output_type": "stream",
          "name": "stdout",
          "text": [
            "Iteration 0\n",
            "Iteration 1\n",
            "Iteration 2\n",
            "Iteration 3\n",
            "Iteration 4\n",
            "Iteration 5\n",
            "Iteration 6\n",
            "Iteration 7\n",
            "Iteration 8\n",
            "Iteration 9\n"
          ]
        }
      ]
    },
    {
      "cell_type": "code",
      "source": [
        "# simple countdown timer\n",
        "\n",
        "timer  = 10\n",
        "while timer > 0:\n",
        "  print(f\"Time remaining: {timer} seconds\")\n",
        "  timer -= 1\n",
        "print(\"Game over!\")"
      ],
      "metadata": {
        "colab": {
          "base_uri": "https://localhost:8080/"
        },
        "id": "5-mmmNBZd5E-",
        "outputId": "bc5231b4-ec48-4060-ee7a-dc8c1e0dd8fe"
      },
      "execution_count": null,
      "outputs": [
        {
          "output_type": "stream",
          "name": "stdout",
          "text": [
            "Time remaining: 10 seconds\n",
            "Time remaining: 9 seconds\n",
            "Time remaining: 8 seconds\n",
            "Time remaining: 7 seconds\n",
            "Time remaining: 6 seconds\n",
            "Time remaining: 5 seconds\n",
            "Time remaining: 4 seconds\n",
            "Time remaining: 3 seconds\n",
            "Time remaining: 2 seconds\n",
            "Time remaining: 1 seconds\n",
            "Game over!\n"
          ]
        }
      ]
    },
    {
      "cell_type": "code",
      "source": [
        "# break: Exit the loop prematurely\n",
        "# stop the loop when a condition has been met\n",
        "\n",
        "for i in range (1,10):\n",
        "  if i == 5:\n",
        "    print(\"Breaking the loop!\")\n",
        "    break\n",
        "  print(i)"
      ],
      "metadata": {
        "colab": {
          "base_uri": "https://localhost:8080/"
        },
        "id": "lfWDFVZd2zhU",
        "outputId": "131ab526-b1b8-4d80-a29b-e40954f580ea"
      },
      "execution_count": 48,
      "outputs": [
        {
          "output_type": "stream",
          "name": "stdout",
          "text": [
            "1\n",
            "2\n",
            "3\n",
            "4\n",
            "Breaking the loop!\n"
          ]
        }
      ]
    },
    {
      "cell_type": "code",
      "source": [
        "# loops reduce redundancy by automating repetitive tasks\n",
        "# print a pattern manually\n",
        "\n",
        "print(\"*\")\n",
        "print(\"**\")\n",
        "print(\"***\")\n",
        "print(\"*****\")"
      ],
      "metadata": {
        "colab": {
          "base_uri": "https://localhost:8080/"
        },
        "id": "AQ2cebBm255H",
        "outputId": "d96123d0-28e8-4522-ee72-96418c1c56a9"
      },
      "execution_count": 49,
      "outputs": [
        {
          "output_type": "stream",
          "name": "stdout",
          "text": [
            "*\n",
            "**\n",
            "***\n",
            "*****\n"
          ]
        }
      ]
    },
    {
      "cell_type": "code",
      "source": [
        "# use to create the same pattern\n",
        "\n",
        "for i in range(1,5):\n",
        "  print(\"*\" * i)"
      ],
      "metadata": {
        "colab": {
          "base_uri": "https://localhost:8080/"
        },
        "id": "U0twMh_M3ApI",
        "outputId": "8ed57f98-a270-4433-daa2-c3b788f69cf1"
      },
      "execution_count": 50,
      "outputs": [
        {
          "output_type": "stream",
          "name": "stdout",
          "text": [
            "*\n",
            "**\n",
            "***\n",
            "****\n"
          ]
        }
      ]
    },
    {
      "cell_type": "code",
      "source": [
        "# iterating over a list\n",
        "# process a list of Clubs\n",
        "\n",
        "clubs = [\"Liverpool\", \"Arsenal\", \"Manchester City\", \"Newcastle\"]\n",
        "\n",
        "for club in clubs[1:3]:\n",
        "  print(f\"Hello,  {club}!\")"
      ],
      "metadata": {
        "colab": {
          "base_uri": "https://localhost:8080/"
        },
        "id": "wFLbRX3u3FtH",
        "outputId": "be6546eb-e4d3-4e15-c15e-5bab479ccd5e"
      },
      "execution_count": 51,
      "outputs": [
        {
          "output_type": "stream",
          "name": "stdout",
          "text": [
            "Hello,  Arsenal!\n",
            "Hello,  Manchester City!\n"
          ]
        }
      ]
    },
    {
      "cell_type": "code",
      "source": [
        "# importing a library called random\n",
        "import random\n",
        "\n",
        "# generate a pair of height and weight\n",
        "\n",
        "for i in range (5):\n",
        "  height = random.randint(150,213)\n",
        "  weight = random.randint(45, 200)\n",
        "  print(f\"Person {i+1} with height {height} cm and weight {weight} kg\")"
      ],
      "metadata": {
        "colab": {
          "base_uri": "https://localhost:8080/"
        },
        "id": "Fj9uFled3MDE",
        "outputId": "2beed3aa-a47c-4e09-da3b-b6d3c0dec9be"
      },
      "execution_count": 52,
      "outputs": [
        {
          "output_type": "stream",
          "name": "stdout",
          "text": [
            "Person 1 with height 201 cm and weight 189 kg\n",
            "Person 2 with height 157 cm and weight 97 kg\n",
            "Person 3 with height 192 cm and weight 177 kg\n",
            "Person 4 with height 198 cm and weight 136 kg\n",
            "Person 5 with height 206 cm and weight 47 kg\n"
          ]
        }
      ]
    },
    {
      "cell_type": "code",
      "source": [
        "# Challenge 1\n",
        "# Problem: Print numbers from 1 to 20. For multiples of 3, print \"Fizz\";\n",
        "# for multiples of 5, print \"Buzz\"; for multiples of both, print \"FizzBuzz.\n",
        "\n",
        "# Loop through numbers from 1 to 20\n",
        "for number in range(1, 21):\n",
        "    if number % 3 == 0 and number % 5 == 0:\n",
        "        print(\"FizzBuzz\")\n",
        "    elif number % 3 == 0:\n",
        "        print(\"Fizz\")\n",
        "    elif number % 5 == 0:\n",
        "        print(\"Buzz\")\n",
        "    else:\n",
        "        print(number)\n"
      ],
      "metadata": {
        "colab": {
          "base_uri": "https://localhost:8080/"
        },
        "id": "Q5sUjkmN3Y0P",
        "outputId": "0f8009cb-4ac9-40c2-cfea-feb154c8d11d"
      },
      "execution_count": 54,
      "outputs": [
        {
          "output_type": "stream",
          "name": "stdout",
          "text": [
            "1\n",
            "2\n",
            "Fizz\n",
            "4\n",
            "Buzz\n",
            "Fizz\n",
            "7\n",
            "8\n",
            "Fizz\n",
            "Buzz\n",
            "11\n",
            "Fizz\n",
            "13\n",
            "14\n",
            "FizzBuzz\n",
            "16\n",
            "17\n",
            "Fizz\n",
            "19\n",
            "Buzz\n"
          ]
        }
      ]
    },
    {
      "cell_type": "code",
      "source": [
        "# Challenge 2\n",
        "# Password Validation\n",
        "# Problem: Prompt the user to enter a password. Allow up to\n",
        "# 3 attempts before locking them out.\n",
        "\n",
        "# Set the correct password\n",
        "correct_password = \"OpenSesame\"\n",
        "\n",
        "# Maximum number of attempts allowed\n",
        "max_attempts = 3\n",
        "\n",
        "# Track the number of attempts made\n",
        "attempts = 0\n",
        "\n",
        "# Loop to give the user up to 3 attempts\n",
        "while attempts < max_attempts:\n",
        "    entered_password = input(\"Enter your password: \")\n",
        "\n",
        "    if entered_password == correct_password:\n",
        "        print(\"Access granted.\")\n",
        "        break\n",
        "    else:\n",
        "        attempts += 1\n",
        "        if attempts < max_attempts:\n",
        "            print(f\"Incorrect password. You have {max_attempts - attempts} attempt(s) left.\")\n",
        "        else:\n",
        "            print(\"Too many incorrect attempts. You are locked out.\")\n"
      ],
      "metadata": {
        "colab": {
          "base_uri": "https://localhost:8080/"
        },
        "id": "MTiZphwG3xO-",
        "outputId": "3415fcbe-91e3-4365-99a8-bf8d338368f3"
      },
      "execution_count": 55,
      "outputs": [
        {
          "output_type": "stream",
          "name": "stdout",
          "text": [
            "Enter your password: 1234\n",
            "Incorrect password. You have 2 attempt(s) left.\n",
            "Enter your password: test\n",
            "Incorrect password. You have 1 attempt(s) left.\n",
            "Enter your password: Favour\n",
            "Too many incorrect attempts. You are locked out.\n"
          ]
        }
      ]
    },
    {
      "cell_type": "code",
      "source": [
        "# Challenge 3\n",
        "# Summation: Find the sum of all even numbers between 1 and 100.\n",
        "# # Using a loop to sum even numbers\n",
        "\n",
        "# Initialize the sum\n",
        "even_sum = 0\n",
        "\n",
        "# Loop through numbers from 1 to 100\n",
        "for number in range(1, 101):\n",
        "    if number % 2 == 0:\n",
        "        even_sum += number\n",
        "\n",
        "# Print the result\n",
        "print(\"The sum of all even numbers between 1 and 100 is:\", even_sum)\n"
      ],
      "metadata": {
        "colab": {
          "base_uri": "https://localhost:8080/"
        },
        "id": "bhVtpn_F4gnm",
        "outputId": "eb41060e-108e-4237-b378-267a7b843c9d"
      },
      "execution_count": 56,
      "outputs": [
        {
          "output_type": "stream",
          "name": "stdout",
          "text": [
            "The sum of all even numbers between 1 and 100 is: 2550\n"
          ]
        }
      ]
    },
    {
      "cell_type": "markdown",
      "source": [
        "Functions"
      ],
      "metadata": {
        "id": "MVFSGh4-FoiX"
      }
    },
    {
      "cell_type": "code",
      "source": [
        "# functions are reusable blocks of code\n",
        "# we use functions for certain or specific tasks\n",
        "\n",
        "def add_numbers (a, b): # arguments\n",
        " # parametres\n",
        " return a + b # return\n",
        "\n",
        "result = add_numbers(30,50)\n",
        "print(result)\n",
        "\n"
      ],
      "metadata": {
        "colab": {
          "base_uri": "https://localhost:8080/"
        },
        "id": "jkITyLwcGCh-",
        "outputId": "9a869bcb-e180-467e-94ae-63843afb6470"
      },
      "execution_count": null,
      "outputs": [
        {
          "output_type": "stream",
          "name": "stdout",
          "text": [
            "80\n"
          ]
        }
      ]
    },
    {
      "cell_type": "code",
      "source": [
        "# challenge\n",
        "# write a function that gets the average of a list of numbers\n",
        "\n",
        "def get_average( numbers):\n",
        "  if len(numbers) == 0:\n",
        "    return 0\n",
        "  return sum(numbers)/len(numbers)\n",
        "\n",
        "# writing a list\n",
        "my_list = [10,20,30,40,50]\n",
        "get_average(my_list)"
      ],
      "metadata": {
        "colab": {
          "base_uri": "https://localhost:8080/"
        },
        "id": "oATkQep5H5KJ",
        "outputId": "2883cb2b-0d37-4706-e648-fd75c973b3cc"
      },
      "execution_count": null,
      "outputs": [
        {
          "output_type": "execute_result",
          "data": {
            "text/plain": [
              "30.0"
            ]
          },
          "metadata": {},
          "execution_count": 22
        }
      ]
    },
    {
      "cell_type": "code",
      "source": [
        "# challenge\n",
        "# write a function that solves the quadratic equation\n",
        "# ax^2 + bx + c\n",
        "# x = (-b + sqrt(b^2 - 4ac )) / 2a\n",
        "# library is a set/collection of functions that perform\n",
        "# tasks relating to a certain\n",
        "# the math library has functions that solve math problem\n",
        "\n",
        "import math\n",
        "def quadratic_equation ( ):\n",
        "  a = int(input(\"Enter the value of a:\"))\n",
        "  b = int(input(\"Enter the value of b:\"))\n",
        "  c = int(input(\"Enter the value of c:\"))\n",
        "  x1 = ( -b + math.sqrt(b**2 - 4*a*c))/ (2*a)\n",
        "  x2 = ( -b - math.sqrt(b**2 - 4*a*c))/ (2*a)\n",
        "  return x1, x2\n",
        "\n",
        "quadratic_equation()"
      ],
      "metadata": {
        "colab": {
          "base_uri": "https://localhost:8080/"
        },
        "id": "HpIUGhPSQOns",
        "outputId": "59aa3c02-667a-48b0-c64d-d8d85b23d55a"
      },
      "execution_count": null,
      "outputs": [
        {
          "name": "stdout",
          "output_type": "stream",
          "text": [
            "Enter the value of a:1\n",
            "Enter the value of b:10\n",
            "Enter the value of c:8\n"
          ]
        },
        {
          "output_type": "execute_result",
          "data": {
            "text/plain": [
              "(-0.8768943743823394, -9.123105625617661)"
            ]
          },
          "metadata": {},
          "execution_count": 25
        }
      ]
    },
    {
      "cell_type": "code",
      "source": [
        "#challenge\n",
        "#write a function that gives us the frequency distribution of\n",
        "\n",
        "def frequency_distribution(items):\n",
        "  freq_dist={}\n",
        "  for item in items:\n",
        "    if item in freq_dist:\n",
        "      freq_dist[item] +- 1\n",
        "    else:\n",
        "        freq_dist[item] = 1\n",
        "        return freq_dist\n"
      ],
      "metadata": {
        "id": "_1l-PgVWPras"
      },
      "execution_count": null,
      "outputs": []
    },
    {
      "cell_type": "code",
      "source": [
        "my_list= [\n",
        "    \"apple\",\"banana\", \"apple\", \" apple\",\n",
        "    \"orange\", \"banana\", \"banana\",\"orange\",\n",
        "    \"orange\", \"banana\" , \"apple\", \"banana\"\n",
        "    ]\n",
        "print (frequency_distribution(my_list))\n",
        "\n"
      ],
      "metadata": {
        "colab": {
          "base_uri": "https://localhost:8080/"
        },
        "id": "KBzvjbzmShgF",
        "outputId": "b40e17cf-30d4-43ce-884c-104e706e8e4f"
      },
      "execution_count": null,
      "outputs": [
        {
          "output_type": "stream",
          "name": "stdout",
          "text": [
            "{'apple': 1}\n"
          ]
        }
      ]
    },
    {
      "cell_type": "code",
      "source": [
        " #challenge\n",
        " # make a function that counts word frequencies in\n",
        " # in a given text\n",
        "\n",
        "  \"Hello, this is my data science class.data , data, science\""
      ],
      "metadata": {
        "id": "O-d_6f_radPy"
      },
      "execution_count": null,
      "outputs": []
    },
    {
      "cell_type": "code",
      "source": [
        "# challenge\n",
        "# write a function that detects an outlier\n",
        "\n",
        "  data - [1,2,3,10,11.5,6,700,4,3,5]"
      ],
      "metadata": {
        "id": "UCQj0EQAbA5h"
      },
      "execution_count": null,
      "outputs": []
    },
    {
      "cell_type": "code",
      "source": [
        "# a function that visualizes data in a plot\n",
        "\n",
        "def simple_plot (x ,y, title= \"plot\"):\n",
        "  import matplotlib.pyplot as plt\n",
        "  plt.plot(x, y)\n",
        "  plt.title(title)\n",
        "  plt.show()\n",
        "\n",
        "x = [1, 2, 3, 4, 5]\n",
        "y = [1, 4, 9, 16, 25]\n",
        "simple_plot(x,y)"
      ],
      "metadata": {
        "colab": {
          "base_uri": "https://localhost:8080/",
          "height": 452
        },
        "id": "RsvG-7RnbWCn",
        "outputId": "b44da125-3823-483d-9b92-de507dc2216a"
      },
      "execution_count": null,
      "outputs": [
        {
          "output_type": "display_data",
          "data": {
            "text/plain": [
              "<Figure size 640x480 with 1 Axes>"
            ],
            "image/png": "[encoded data removed]"
          },
          "metadata": {}
        }
      ]
    },
    {
      "cell_type": "code",
      "source": [
        "# a function that visualizes data in a plot\n",
        "\n",
        "def simple_plot (x ,y, title= \"plot\"):\n",
        "  import matplotlib.pyplot as plt\n",
        "  plt.plot(x, y)\n",
        "  plt.title(title)\n",
        "  plt.show()\n",
        "\n",
        "x = [1, 2, 3, 4, 5]\n",
        "y = [1, 4, 9, 16, 25]\n",
        "simple_plot(x,y)"
      ],
      "metadata": {
        "colab": {
          "base_uri": "https://localhost:8080/",
          "height": 452
        },
        "id": "-eXjfAsxK8TA",
        "outputId": "6a942aa5-87b1-4da7-e398-602ae4d48855"
      },
      "execution_count": 57,
      "outputs": [
        {
          "output_type": "display_data",
          "data": {
            "text/plain": [
              "<Figure size 640x480 with 1 Axes>"
            ],
            "image/png": "[encoded data removed]"
          },
          "metadata": {}
        }
      ]
    }
  ]
}